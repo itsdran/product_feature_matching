{
 "cells": [
  {
   "cell_type": "code",
   "execution_count": null,
   "metadata": {
    "vscode": {
     "languageId": "plaintext"
    }
   },
   "outputs": [],
   "source": [
    "import torch\n",
    "\n",
    "if torch.cuda.is_available():\n",
    "    device = torch.device(\"cuda\")\n",
    "    print(f\"GPU is available: {torch.cuda.get_device_name(0)}\")\n",
    "    print(f\"CUDA version: {torch.version.cuda}\")\n",
    "    print(f\"PyTorch is using device: {device}\")\n",
    "\n",
    "    # Test a simple tensor operation on GPU\n",
    "    try:\n",
    "        x = torch.tensor([1.0, 2.0, 3.0], device=device)\n",
    "        y = torch.tensor([4.0, 5.0, 6.0], device=device)\n",
    "        z = x + y\n",
    "        print(f\"Tensor operation successful: {z}\")\n",
    "    except Exception as e:\n",
    "        print(f\"Tensor operation failed: {e}\")\n",
    "else:\n",
    "    print(\"GPU is not available. PyTorch is using CPU.\")\n"
   ]
  }
 ],
 "metadata": {
  "language_info": {
   "name": "python"
  }
 },
 "nbformat": 4,
 "nbformat_minor": 2
}
